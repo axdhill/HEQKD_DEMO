{
 "cells": [
  {
   "cell_type": "code",
   "execution_count": 1,
   "metadata": {},
   "outputs": [],
   "source": [
    "import numpy as np\n",
    "\n",
    "def cascade_k(S, v, k) :\n",
    "    no_blocks = len(S)/k\n",
    "    if ~(int(no_blocks) == no_blocks) :\n",
    "        raise ValueError('k does not evenly divide bit string length!')\n",
    "    return S[((v-1)*k):(v*k)]\n",
    "\n",
    "def to_basis(chs) :\n",
    "    basis_map = {0:0, 1:0, 2:1, 3:1}    \n",
    "    return [basis_map[c] for c in chs]\n",
    "\n",
    "def to_value(S) :\n",
    "    key_map = {0:0, 1:1, 2:0, 3:1}\n",
    "    return [key_map[s] for s in S]"
   ]
  },
  {
   "cell_type": "code",
   "execution_count": 2,
   "metadata": {},
   "outputs": [
    {
     "name": "stdout",
     "output_type": "stream",
     "text": [
      "100\n",
      "[0, 0, 0, 0, 0, 0, 1, 1, 0, 1, 0, 0, 1, 1, 1, 0, 0, 0, 1, 1, 1, 1, 0, 0, 0, 0, 0, 0, 0, 0, 0, 0, 1, 1, 1, 1, 1, 1, 1, 0, 0, 0, 1, 1, 1, 0, 0, 0, 0, 0, 0, 1, 1, 0, 0, 1, 0, 1, 1, 0, 1, 0, 1, 1, 1, 1, 1, 1, 1, 1, 1, 1, 0, 1, 0, 1, 0, 0, 0, 0, 0, 0, 1, 0, 0, 0, 1, 1, 1, 0, 0, 1, 1, 0, 0, 1, 0, 0, 1, 1]\n",
      "[0, 0, 0, 0, 0, 0, 1, 1, 0, 1, 0, 0, 1, 1, 1, 0, 0, 0, 0, 1, 1, 1, 0, 0, 0, 0, 0, 0, 0, 0, 0, 0, 1, 1, 1, 1, 0, 1, 1, 0, 0, 0, 0, 1, 1, 0, 0, 0, 0, 0, 0, 1, 1, 0, 0, 1, 0, 1, 1, 0, 0, 0, 1, 1, 1, 1, 1, 1, 1, 1, 0, 1, 0, 1, 0, 1, 0, 0, 0, 0, 0, 0, 1, 0, 0, 0, 1, 1, 1, 0, 0, 1, 1, 0, 0, 1, 0, 0, 1, 1]\n",
      "[0, 1, 0, 0, 0, 0, 0, 1, 1, 0, 1, 0, 0, 1, 0, 1, 1, 0, 1, 0, 1, 0, 0, 1, 1, 0, 1, 0, 1, 0, 0, 1, 1, 1, 1, 0, 0, 1, 0, 1, 0, 1, 0, 0, 1, 1, 1, 0, 0, 1, 1, 1, 1, 0, 0, 1, 0, 0, 1, 1, 0, 0, 1, 1, 0, 1, 0, 0, 0, 0, 1, 0, 1, 0, 0, 0, 0, 1, 1, 0, 0, 0, 0, 0, 1, 1, 1, 0, 1, 1, 0, 1, 1, 1, 0, 0, 0, 0, 1, 1]\n",
      "[0, 1, 0, 0, 0, 0, 0, 1, 1, 0, 1, 0, 0, 1, 0, 1, 1, 0, 0, 0, 1, 0, 0, 1, 1, 0, 1, 0, 1, 0, 0, 1, 1, 1, 1, 0, 0, 1, 0, 1, 0, 1, 0, 0, 1, 1, 1, 0, 0, 1, 1, 1, 1, 0, 0, 1, 0, 0, 1, 1, 0, 0, 1, 1, 0, 1, 0, 0, 0, 0, 0, 0, 1, 0, 0, 0, 0, 1, 0, 0, 0, 0, 0, 0, 1, 1, 1, 0, 1, 1, 0, 1, 1, 1, 0, 0, 0, 0, 1, 1]\n"
     ]
    }
   ],
   "source": [
    "no_tags = 100\n",
    "alice_tags = np.sort(np.random.randint(0, 100000, no_tags))\n",
    "alice_chs = np.random.randint(0, 4, no_tags)\n",
    "\n",
    "bob_tags = alice_tags\n",
    "bob_chs = alice_chs\n",
    "\n",
    "bob_chs = np.array(bob_chs)\n",
    "bob_chs[np.random.randint(0,len(bob_chs), 10)] = 0\n",
    "\n",
    "alice_bases = to_basis(alice_chs)\n",
    "bob_bases = to_basis(bob_chs)\n",
    "\n",
    "alice_values = to_value(alice_chs)\n",
    "bob_values = to_value(bob_chs)\n",
    "\n",
    "print(len(alice_values))\n",
    "\n",
    "print(alice_bases)\n",
    "print(bob_bases)\n",
    "\n",
    "print(alice_values)\n",
    "print(bob_values)"
   ]
  },
  {
   "cell_type": "code",
   "execution_count": 3,
   "metadata": {},
   "outputs": [
    {
     "name": "stdout",
     "output_type": "stream",
     "text": [
      "[0, 1, 2, 3, 4, 5, 6, 7, 8, 9, 10, 11, 12, 13, 14, 15, 16, 17, 18, 19, 20, 21, 22, 23, 24, 25, 26, 27, 28, 29, 30, 31, 32, 33, 34, 35, 36, 37, 38, 39, 40, 41, 42, 43, 44, 45, 46, 47, 48, 49, 50, 51, 52, 53, 54, 55, 56, 57, 58, 59, 60, 61, 62, 63, 64, 65, 66, 67, 68, 69, 70, 71, 72, 73, 74, 75, 76, 77, 78, 79, 80, 81, 82, 83, 84, 85, 86, 87, 88, 89, 90, 91, 92, 93, 94, 95, 96, 97, 98, 99]\n",
      "[  201   251   300   849  2508  3669  4969  6202  6282  6389  7424  8169\n",
      "  8750  9384  9765  9876 10846 12946 13427 15652 16804 18747 20752 21842\n",
      " 22912 23238 23437 23867 25234 25962 29529 29690 29898 30323 31855 32351\n",
      " 33361 33829 34677 35498 37304 38535 39449 40299 42335 43202 43484 44155\n",
      " 45889 46085 46568 46757 50925 51008 51929 52582 53415 54134 54768 54820\n",
      " 55889 56126 58772 61578 63593 65459 65595 66318 66735 67601 69679 70618\n",
      " 71760 74695 75081 75218 75420 75596 80034 86714 86716 88025 88032 88614\n",
      " 89295 89724 91060 91510 93037 93384 93503 95091 95696 96423 96489 97156\n",
      " 97253 97607 99685 99733]\n",
      "[0, 1, 2, 3, 4, 5, 6, 7, 8, 9, 10, 11, 12, 13, 14, 15, 16, 17, 18, 19, 20, 21, 22, 23, 24, 25, 26, 27, 28, 29, 30, 31, 32, 33, 34, 35, 36, 37, 38, 39, 40, 41, 42, 43, 44, 45, 46, 47, 48, 49, 50, 51, 52, 53, 54, 55, 56, 57, 58, 59, 60, 61, 62, 63, 64, 65, 66, 67, 68, 69, 70, 71, 72, 73, 74, 75, 76, 77, 78, 79, 80, 81, 82, 83, 84, 85, 86, 87, 88, 89, 90, 91, 92, 93, 94, 95, 96, 97, 98, 99]\n",
      "[  201   251   300   849  2508  3669  4969  6202  6282  6389  7424  8169\n",
      "  8750  9384  9765  9876 10846 12946 13427 15652 16804 18747 20752 21842\n",
      " 22912 23238 23437 23867 25234 25962 29529 29690 29898 30323 31855 32351\n",
      " 33361 33829 34677 35498 37304 38535 39449 40299 42335 43202 43484 44155\n",
      " 45889 46085 46568 46757 50925 51008 51929 52582 53415 54134 54768 54820\n",
      " 55889 56126 58772 61578 63593 65459 65595 66318 66735 67601 69679 70618\n",
      " 71760 74695 75081 75218 75420 75596 80034 86714 86716 88025 88032 88614\n",
      " 89295 89724 91060 91510 93037 93384 93503 95091 95696 96423 96489 97156\n",
      " 97253 97607 99685 99733]\n"
     ]
    }
   ],
   "source": [
    "def do_matching(alice_tags, bob_tags, radius = 1) :\n",
    "    alice_matched_indices = []\n",
    "    bob_matched_indices = []\n",
    "    \n",
    "    alice_multiple_indices = []\n",
    "    bob_multiple_indices = []\n",
    "    \n",
    "    a_i = 0\n",
    "    b_i = 0\n",
    "    \n",
    "    no_coin = 0\n",
    "    b_start = 0\n",
    "    while a_i < len(alice_tags) :\n",
    "        a = alice_tags[a_i]\n",
    "        b_i = b_start\n",
    "        b = bob_tags[b_i]\n",
    "        while b < (a + radius) and b_i < len(bob_tags):\n",
    "            b = bob_tags[b_i] \n",
    "            if abs(a - b) < radius :\n",
    "                if a in alice_tags[alice_matched_indices] :\n",
    "                    alice_multiple_indices.append(a_i)\n",
    "                    alice_matched_indices.remove(a_i)\n",
    "                elif b in bob_tags[bob_matched_indices] :\n",
    "                    bob_multiple_indices.append(b_i)\n",
    "                    bob_matched_indices.remove(b_i)\n",
    "\n",
    "\n",
    "                else :    \n",
    "                    alice_matched_indices.append(a_i)\n",
    "                    bob_matched_indices.append(b_i)\n",
    "                    \n",
    "            b_i += 1\n",
    "                \n",
    "        a_i += 1\n",
    " \n",
    "        \n",
    "        \n",
    "    return [alice_matched_indices, bob_matched_indices]\n",
    "\n",
    "[alice_indices, bob_indices] = do_matching(np.array(alice_tags), np.array(bob_tags))\n",
    "alice_tags = np.array(alice_tags)\n",
    "bob_tags = np.array(bob_tags)\n",
    "alice_chs = np.array(alice_chs)\n",
    "bob_chs = np.array(bob_chs)\n",
    "\n",
    "print(alice_indices)\n",
    "print(alice_tags[alice_indices])\n",
    "print(bob_indices)\n",
    "print(bob_tags[bob_indices])\n",
    "\n",
    "\n",
    "alice_matched_chs = alice_chs[alice_indices]\n",
    "bob_matched_chs = bob_chs[bob_indices]\n",
    "\n",
    "    "
   ]
  },
  {
   "cell_type": "code",
   "execution_count": 4,
   "metadata": {},
   "outputs": [
    {
     "name": "stdout",
     "output_type": "stream",
     "text": [
      "[0 1 0 0 0 0 2 3 1 2 1 0 2 3 2 1 1 0 2 3 2 0 1 1 0 1 0 1 0 0 1 3 3 3 2 3 2\n",
      " 1 0 1 2 3 1 1 0 0 1 1 3 3 0 0 3 0 2 3 1 0 3 3 2 3 2 2 2 2 2 1 2 0 2 0 1 1\n",
      " 0 0 0 2 0 1 1 3 2 3 1 0 3 3 1 0 2 0 0 3 3]\n",
      "[0 1 0 0 0 0 2 3 1 2 1 0 2 3 2 1 1 0 2 3 2 0 1 1 0 1 0 1 0 0 1 3 3 3 2 3 2\n",
      " 1 0 1 2 3 1 1 0 0 1 1 3 3 0 0 3 0 2 3 1 0 3 3 2 3 2 2 2 2 2 1 2 0 2 0 1 0\n",
      " 0 0 0 2 0 1 1 3 2 3 1 0 3 3 1 0 2 0 0 3 3]\n"
     ]
    }
   ],
   "source": [
    "def do_sifting(alice_matched_chs, bob_matched_chs) :\n",
    "    alice_bases = to_basis(alice_matched_chs)\n",
    "    bob_bases = to_basis(bob_matched_chs)\n",
    "    \n",
    "    matching_indices = [alice_bases[i] == bob_bases[i] for i in range(len(alice_bases))]\n",
    "    return [alice_matched_chs[matching_indices], bob_matched_chs[matching_indices]]\n",
    "\n",
    "[alice_sifted_chs, bob_sifted_chs] = do_sifting(alice_matched_chs, bob_matched_chs)\n",
    "print(alice_sifted_chs)\n",
    "print(bob_sifted_chs)"
   ]
  },
  {
   "cell_type": "code",
   "execution_count": 5,
   "metadata": {},
   "outputs": [
    {
     "name": "stdout",
     "output_type": "stream",
     "text": [
      "[0, 1, 0, 0, 0, 0, 0, 1, 1, 0, 1, 0, 0, 1, 0, 1, 1, 0, 0, 1, 0, 0, 1, 1, 0, 1, 0, 1, 0, 0, 1, 1, 1, 1, 0, 1, 0, 1, 0, 1, 0, 1, 1, 1, 0, 0, 1, 1, 1, 1, 0, 0, 1, 0, 0, 1, 1, 0, 1, 1, 0, 1, 0, 0, 0, 0, 0, 1, 0, 0, 0, 0, 1, 1, 0, 0, 0, 0, 0, 1, 1, 1, 0, 1, 1, 0, 1, 1, 1, 0, 0, 0, 0, 1, 1]\n",
      "[0, 1, 0, 0, 0, 0, 0, 1, 1, 0, 1, 0, 0, 1, 0, 1, 1, 0, 0, 1, 0, 0, 1, 1, 0, 1, 0, 1, 0, 0, 1, 1, 1, 1, 0, 1, 0, 1, 0, 1, 0, 1, 1, 1, 0, 0, 1, 1, 1, 1, 0, 0, 1, 0, 0, 1, 1, 0, 1, 1, 0, 1, 0, 0, 0, 0, 0, 1, 0, 0, 0, 0, 1, 0, 0, 0, 0, 0, 0, 1, 1, 1, 0, 1, 1, 0, 1, 1, 1, 0, 0, 0, 0, 1, 1]\n"
     ]
    }
   ],
   "source": [
    "alice_bits = to_value(alice_sifted_chs)\n",
    "bob_bits = to_value(bob_sifted_chs)\n",
    "\n",
    "print(alice_bits)\n",
    "print(bob_bits)"
   ]
  },
  {
   "cell_type": "code",
   "execution_count": 9,
   "metadata": {},
   "outputs": [
    {
     "name": "stdout",
     "output_type": "stream",
     "text": [
      "95\n",
      "[4]\n"
     ]
    }
   ],
   "source": [
    "def cascade_k(S, v, k) :\n",
    "    no_blocks = len(S)/k\n",
    "    if not (float(no_blocks).is_integer()) :\n",
    "        raise ValueError('k does not evenly divide bit string length!')\n",
    "    return S[((v-1)*k):(v*k)]\n",
    "\n",
    "\n",
    "def cascade_parity(block) :\n",
    "    return int(np.sum(block) % 2 == 1)\n",
    "\n",
    "def cascade_parity_of_all_blocks(S, k) :\n",
    "    no_blocks = int(len(S)/k)\n",
    "    return [cascade_parity(cascade_k(S, v, k)) for v in range(1, no_blocks)]\n",
    "\n",
    "k1 = 19\n",
    "print(len(alice_bits))\n",
    "alice_pass_one_parities = cascade_parity_of_all_blocks(alice_bits, k1)\n",
    "bob_pass_one_parities = cascade_parity_of_all_blocks(bob_bits, k1)\n",
    "\n",
    "\n",
    "\n",
    "enum_error = enumerate([alice_pass_one_parities[i] != bob_pass_one_parities[i] for i in range(len(alice_pass_one_parities))])\n",
    "indices_of_errors = [n+1 for (n, v) in enum_error if v ]\n",
    "print(indices_of_errors)\n",
    "\n",
    "\n",
    "\n",
    "    \n"
   ]
  },
  {
   "cell_type": "code",
   "execution_count": 67,
   "metadata": {},
   "outputs": [
    {
     "name": "stdout",
     "output_type": "stream",
     "text": [
      "[0 1 1 0 1 0 0 0 0 0 1 0 0 0 0 1 1 0 0]\n",
      "[0 1 1 0 1 0 0 0 0 0 1 0 0 0 0 1 1 0 0]\n"
     ]
    }
   ],
   "source": [
    "def cascade_binary(A, B, i) :\n",
    "    \n",
    "    if len(A) == 1 :\n",
    "        return i \n",
    "     \n",
    "    a_first_half_parity = cascade_parity(A[0:int(len(A)/2)])\n",
    "    b_first_half_parity = cascade_parity(B[0:int(len(B)/2)])\n",
    "    \n",
    "\n",
    "    #if len(A) % 2 != 0 : # If A has odd length\n",
    "    if a_first_half_parity == b_first_half_parity :\n",
    "        return cascade_binary(A[int(len(A)/2):], B[int(len(A)/2):], i + int(len(A)/2))\n",
    "    else :\n",
    "        return cascade_binary(A[0:int(len(A)/2)], B[0:int(len(B)/2)], i)\n",
    "        \n",
    "#     if len(A) % 2 == 0 : # If A has even length\n",
    "#         if a_first_half_parity == b_first_half_parity :\n",
    "#             return cascade_binary(A[int(len(A)/2):-1], B[int(len(A)/2):-1])\n",
    "#         else :\n",
    "#             return cascade_binary(A[0:int(len(A)/2)], B[0:int(len(B)/2)])\n",
    "    \n",
    "    \n",
    "# Do Cascade Pass 1\n",
    "for j in indices_of_errors :\n",
    "    alice_block = cascade_k(alice_bits, j, k1)\n",
    "    bob_block = cascade_k(bob_bits, j, k1)\n",
    "    print(alice_block)\n",
    "    print(bob_block)\n",
    "    error_index = cascade_binary(alice_block, bob_block, 0 )\n",
    "    bob_bits[(j-1)*k1 + error_index] = (bob_bits[(j-1)*k1 + error_index]+1)%2\n",
    "\n",
    "    \n"
   ]
  },
  {
   "cell_type": "code",
   "execution_count": 68,
   "metadata": {},
   "outputs": [
    {
     "name": "stdout",
     "output_type": "stream",
     "text": [
      "[0 0 0 0 1 0 0 1 0 0]\n",
      "[0 0 0 0 1 0 0 1 0 0]\n"
     ]
    }
   ],
   "source": [
    "def cascade_rand_f(k, length) :\n",
    "    return np.sort(np.random.choice(list(range(length)), size = k))\n",
    "\n",
    "\n",
    "def cascade_BdelK(B, K) :\n",
    "    print((np.logical_or(B,K)).astype(int))\n",
    "    print((np.logical_and(B,K)).astype(int))\n",
    "    Kprime = np.mod((np.logical_or(B,K) - np.logical_and(B,K)).astype(int))\n",
    "    return Kprime\n",
    "\n",
    "#cascade_BdelK([0, 1, 1, 0, 1, 0, 0, 0, 0, 0, 1, 0, 0, 0, 0, 1, 1, 0, 0], [0, 1, 1, 0, 1, 0, 0, 0, 0, 0, 1, 0, 0, 0, 0, 1, 1, 0, 1])\n",
    "\n",
    "f_i = cascade_rand_f(10, len(alice_bits))\n",
    "alice_bits = np.array(alice_bits)\n",
    "bob_bits = np.array(bob_bits)\n",
    "print(alice_bits[f_i])\n",
    "print(bob_bits[f_i])\n",
    "\n",
    "\n",
    "alice_bob"
   ]
  },
  {
   "cell_type": "code",
   "execution_count": null,
   "metadata": {},
   "outputs": [],
   "source": []
  }
 ],
 "metadata": {
  "kernelspec": {
   "display_name": "Python 3",
   "language": "python",
   "name": "python3"
  },
  "language_info": {
   "codemirror_mode": {
    "name": "ipython",
    "version": 3
   },
   "file_extension": ".py",
   "mimetype": "text/x-python",
   "name": "python",
   "nbconvert_exporter": "python",
   "pygments_lexer": "ipython3",
   "version": "3.7.0"
  }
 },
 "nbformat": 4,
 "nbformat_minor": 2
}
